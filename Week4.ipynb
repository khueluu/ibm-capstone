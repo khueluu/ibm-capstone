{
  "nbformat": 4,
  "nbformat_minor": 0,
  "metadata": {
    "colab": {
      "name": "Week4.ipynb",
      "provenance": []
    },
    "kernelspec": {
      "name": "python3",
      "display_name": "Python 3"
    }
  },
  "cells": [
    {
      "cell_type": "markdown",
      "metadata": {
        "id": "c5G-8bNLVida",
        "colab_type": "text"
      },
      "source": [
        "# 1. Problem\n",
        "### 1.1 Background\n",
        "Toronto is a dynamic and multucitural city in Canada. There are various restaurants that offer a variety of cuisine such as Thai, Chinese, Japanese, Idian, Mexican or Italian. However, there might not be enough authentic Vietnamese restaurants for tourists and the locals. This could be a prospective market for Vietnamese restaurant entreprenerus as well as an opportunity for local people to enjoy one of the greatest distinct cuisines in Asia.\n",
        "\n",
        "### 1.2 Business Problem\n",
        "The objective of  this project is to find which location in Toronto, Canada is good to open a Vietnamese restaurant based on the similarity of restaurant types in the same area. By using data analysis and machine learning technique such as clustering, the project aims to cluster neighbourhoods that have similar restaurant types, especially those with the highest Vietnamese food interest.\n",
        "\n",
        "### 1.3 Who would be interested?\n",
        "Restaurant business owners or Vietnamese cuisine fan can find the result of this project useful in their decision making process. Business owners can see areas that have many Vietnamese or Asian restaurants and come up with further decisions. Tourist with great interest in Vietnamese cuisine can look at the project's result to choose their destinaton for their next trip to Toronto."
      ]
    },
    {
      "cell_type": "markdown",
      "metadata": {
        "id": "14CPsmgWhQ8X",
        "colab_type": "text"
      },
      "source": [
        "# 2. Data\n",
        "### 2.1 Describe data\n",
        "To solve the project problem, I need to collect these data:\n",
        "- The list of all boroughs and neighbourhoods in Toronto (scraped from Wikipedia sung Beautiful Soup)\n",
        "- The latitude and longitude of these neighbourhoods (Geocoder package)\n",
        "- Venues data ralated to Vietnames restaurants in each neighbourhood to help find the location with more interest in Vietnamese food (from Foursquare API)\n",
        "\n",
        "### 2.2 How it is used to solve the problem?\n",
        "From the coordinates, I search for 50 restaurants within 500 meters of each neighbourhood, then use k-means clustering technique to cluster neighbourhoods in 3 categories: 'many', 'medium', and 'less', which represent the quantity of Vietnamese restaurants in that neighourhood."
      ]
    }
  ]
}