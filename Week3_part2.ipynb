{
  "nbformat": 4,
  "nbformat_minor": 0,
  "metadata": {
    "colab": {
      "name": "Week3_part2.ipynb",
      "provenance": []
    },
    "kernelspec": {
      "name": "python3",
      "display_name": "Python 3"
    }
  },
  "cells": [
    {
      "cell_type": "markdown",
      "metadata": {
        "id": "lbpqWUVMP5zc",
        "colab_type": "text"
      },
      "source": [
        "# Question 2"
      ]
    },
    {
      "cell_type": "markdown",
      "metadata": {
        "id": "V88HWWNmf0Uo",
        "colab_type": "text"
      },
      "source": [
        "## 1. Import libraries"
      ]
    },
    {
      "cell_type": "code",
      "metadata": {
        "id": "_amcstY7f3iu",
        "colab_type": "code",
        "colab": {}
      },
      "source": [
        "import pandas as pd\n",
        "import codecs"
      ],
      "execution_count": 0,
      "outputs": []
    },
    {
      "cell_type": "markdown",
      "metadata": {
        "id": "LFcUREQRflbR",
        "colab_type": "text"
      },
      "source": [
        "## 2. Load data from the Week 3 Part 1"
      ]
    },
    {
      "cell_type": "code",
      "metadata": {
        "id": "vHWCz0KjfrPm",
        "colab_type": "code",
        "colab": {
          "base_uri": "https://localhost:8080/",
          "height": 204
        },
        "outputId": "c54e19f5-b0e6-45bf-9155-2bb016b4d4fc"
      },
      "source": [
        "df1 = pd.read_csv('toronto_data_1.csv')\n",
        "df1.head()"
      ],
      "execution_count": 2,
      "outputs": [
        {
          "output_type": "execute_result",
          "data": {
            "text/html": [
              "<div>\n",
              "<style scoped>\n",
              "    .dataframe tbody tr th:only-of-type {\n",
              "        vertical-align: middle;\n",
              "    }\n",
              "\n",
              "    .dataframe tbody tr th {\n",
              "        vertical-align: top;\n",
              "    }\n",
              "\n",
              "    .dataframe thead th {\n",
              "        text-align: right;\n",
              "    }\n",
              "</style>\n",
              "<table border=\"1\" class=\"dataframe\">\n",
              "  <thead>\n",
              "    <tr style=\"text-align: right;\">\n",
              "      <th></th>\n",
              "      <th>Postcode</th>\n",
              "      <th>Borough</th>\n",
              "      <th>Neighbourhood</th>\n",
              "    </tr>\n",
              "  </thead>\n",
              "  <tbody>\n",
              "    <tr>\n",
              "      <th>0</th>\n",
              "      <td>M3A</td>\n",
              "      <td>North York</td>\n",
              "      <td>Parkwoods</td>\n",
              "    </tr>\n",
              "    <tr>\n",
              "      <th>1</th>\n",
              "      <td>M4A</td>\n",
              "      <td>North York</td>\n",
              "      <td>Victoria Village</td>\n",
              "    </tr>\n",
              "    <tr>\n",
              "      <th>2</th>\n",
              "      <td>M5A</td>\n",
              "      <td>Downtown Toronto</td>\n",
              "      <td>Harbourfront</td>\n",
              "    </tr>\n",
              "    <tr>\n",
              "      <th>3</th>\n",
              "      <td>M6A</td>\n",
              "      <td>North York</td>\n",
              "      <td>Lawrence Heights, Lawrence Manor</td>\n",
              "    </tr>\n",
              "    <tr>\n",
              "      <th>4</th>\n",
              "      <td>M7A</td>\n",
              "      <td>Downtown Toronto</td>\n",
              "      <td>Queen's Park</td>\n",
              "    </tr>\n",
              "  </tbody>\n",
              "</table>\n",
              "</div>"
            ],
            "text/plain": [
              "  Postcode           Borough                     Neighbourhood\n",
              "0      M3A        North York                         Parkwoods\n",
              "1      M4A        North York                  Victoria Village\n",
              "2      M5A  Downtown Toronto                      Harbourfront\n",
              "3      M6A        North York  Lawrence Heights, Lawrence Manor\n",
              "4      M7A  Downtown Toronto                      Queen's Park"
            ]
          },
          "metadata": {
            "tags": []
          },
          "execution_count": 2
        }
      ]
    },
    {
      "cell_type": "markdown",
      "metadata": {
        "id": "i1l6aF7xXtV7",
        "colab_type": "text"
      },
      "source": [
        "## 3. Download geospatial data for neighbourhoods"
      ]
    },
    {
      "cell_type": "code",
      "metadata": {
        "id": "u7QcfrBVP8dR",
        "colab_type": "code",
        "outputId": "386d6aa7-b3b8-42bf-a0dd-6a63e96d7e67",
        "colab": {
          "base_uri": "https://localhost:8080/",
          "height": 615
        }
      },
      "source": [
        "!wget http://cocl.us/Geospatial_data"
      ],
      "execution_count": 3,
      "outputs": [
        {
          "output_type": "stream",
          "text": [
            "--2020-01-15 09:19:51--  http://cocl.us/Geospatial_data\n",
            "Resolving cocl.us (cocl.us)... 158.85.108.86, 158.85.108.83, 169.48.113.194\n",
            "Connecting to cocl.us (cocl.us)|158.85.108.86|:80... connected.\n",
            "HTTP request sent, awaiting response... 301 Moved Permanently\n",
            "Location: https://cocl.us/Geospatial_data [following]\n",
            "--2020-01-15 09:19:51--  https://cocl.us/Geospatial_data\n",
            "Connecting to cocl.us (cocl.us)|158.85.108.86|:443... connected.\n",
            "HTTP request sent, awaiting response... 301 Moved Permanently\n",
            "Location: https://ibm.box.com/shared/static/9afzr83pps4pwf2smjjcf1y5mvgb18rr.csv [following]\n",
            "--2020-01-15 09:19:53--  https://ibm.box.com/shared/static/9afzr83pps4pwf2smjjcf1y5mvgb18rr.csv\n",
            "Resolving ibm.box.com (ibm.box.com)... 107.152.26.197, 107.152.27.197\n",
            "Connecting to ibm.box.com (ibm.box.com)|107.152.26.197|:443... connected.\n",
            "HTTP request sent, awaiting response... 301 Moved Permanently\n",
            "Location: /public/static/9afzr83pps4pwf2smjjcf1y5mvgb18rr.csv [following]\n",
            "--2020-01-15 09:19:54--  https://ibm.box.com/public/static/9afzr83pps4pwf2smjjcf1y5mvgb18rr.csv\n",
            "Reusing existing connection to ibm.box.com:443.\n",
            "HTTP request sent, awaiting response... 301 Moved Permanently\n",
            "Location: https://ibm.ent.box.com/public/static/9afzr83pps4pwf2smjjcf1y5mvgb18rr.csv [following]\n",
            "--2020-01-15 09:19:54--  https://ibm.ent.box.com/public/static/9afzr83pps4pwf2smjjcf1y5mvgb18rr.csv\n",
            "Resolving ibm.ent.box.com (ibm.ent.box.com)... 107.152.27.211, 107.152.26.211\n",
            "Connecting to ibm.ent.box.com (ibm.ent.box.com)|107.152.27.211|:443... connected.\n",
            "HTTP request sent, awaiting response... 302 Found\n",
            "Location: https://public.boxcloud.com/d/1/b1!0X5xrQm2x36R0Py8PeJpapJyxoHLDrsCoh62kFTpVv6Yn1EPI_jaTKfs6xGvIxdYNU1HUTw9OZKhraaMyYHr7nMbXb0wEnGDoKhIdm7uDSWzZYw2hRI8jobKvz-Ctw6U5dmSBRZQ96JTH6Bk8K90YN_Kg0zrHp97SeHPgmJCjx36D6hvlcTHNVbSqlZVRC6mga30sIXDfgrnmZ6yuTsuutQC6UA0KYElKs8Oh5cWUna9LHGnsh0vQ1U9ehJde1fIHJ3jlNiEiXQNOTil2x-9vYgmNWvw8mB9sI-8Y_Qm-MsLNqlYMA-5R3G_Lk_XV7Q8Phuxd8PApneYXONpCNwV-leR51nXMNede5sGUJhcnpeavym0GhmVZHKaBDD72hLXhQ2SzTfv2jtuCk4lbIzJSP912DnycyTY5t7DYwjTRzHkdZ665dwaC-pP5L-65iSdGS42T9xUUe5sWEx2e--_wsGdc-h7Jx_t9u_Rm3LWtK36sORKfqGk4Abou3m61KsKUVxfIr76E1gz0qYirw54hMXK3LkZ99zm6wvVfLFdKlZeWCKD95Sc_7yh7jQRPJyAJPIhEu3FC2jdP3o_ODXCZp1e9LAUNfNoo68B6dr4oEe49cAuD8ZnAaXLoDKcYdH-b57BH7FtuC0jDJ83AfdP6IuIPY76Zm9p14d4z4Q4kBvErKQB0dzMwJGWvwgWbcML90Hqx6qGZuc4AkctWvA7KpDK5q4Kuc5QxMdru9zBAfyOhUu1YPL6j_FH_rhu2wv4rEo_UcpKfk2TcfNpEEgItezhKVO6BV-jW2YRpc26IrK5Cx4WtDc1gPgCNOPFQRWa3_wxjL0qyw7__A49-45DEMIBuEl7VrA3xxrULOPyQpxMdxuV7vvBFBC1SHugNSTn27bn0gUaQ2c7I-cQ04y8v3fj_zggER0AkPj88Y6iLNbAatIKhSw4bSk6vlDI5xHZi0YcNqzQYUaf9FRmvDsLV5gHsQcy6sn24LRhNGN-HFBjMb8e05JRRWdAymObVAYsDSyzb6r7KPW3D9-QgEjR_-yTr77lHM5wOHHYEHgYaiepo_c4uWFx1kIdVPPzYy3tXPAQ1URonJa0O3N1-fnvSOsE1joWHP-FVCaT9l0JkiP5ZaOWilmiGRE7YAzXL5ztm_Xp-cg3BcgEdJt1V3_7ATlYXBTkNrldbpsYTj90N_i9m4JWlA5pPoE2iCjUhaGyUZB3Kp00IM0q5tio8RnFprhttlL9rUZ2QjAj1qkvafhQUfZnEkfqqbTCUYOQMHjYjwbvSKldJMe-Jq8nkgCs6Pk0Fv8t5SK8P0GvAbFKUr3VSmIhyHK28d97esbmFQbwjl3pYoT0KFYYXLZf7kmUunIGz2PdxPZVxENTcpi9pfiIMn4d9ojv5UiO2A../download [following]\n",
            "--2020-01-15 09:19:54--  https://public.boxcloud.com/d/1/b1!0X5xrQm2x36R0Py8PeJpapJyxoHLDrsCoh62kFTpVv6Yn1EPI_jaTKfs6xGvIxdYNU1HUTw9OZKhraaMyYHr7nMbXb0wEnGDoKhIdm7uDSWzZYw2hRI8jobKvz-Ctw6U5dmSBRZQ96JTH6Bk8K90YN_Kg0zrHp97SeHPgmJCjx36D6hvlcTHNVbSqlZVRC6mga30sIXDfgrnmZ6yuTsuutQC6UA0KYElKs8Oh5cWUna9LHGnsh0vQ1U9ehJde1fIHJ3jlNiEiXQNOTil2x-9vYgmNWvw8mB9sI-8Y_Qm-MsLNqlYMA-5R3G_Lk_XV7Q8Phuxd8PApneYXONpCNwV-leR51nXMNede5sGUJhcnpeavym0GhmVZHKaBDD72hLXhQ2SzTfv2jtuCk4lbIzJSP912DnycyTY5t7DYwjTRzHkdZ665dwaC-pP5L-65iSdGS42T9xUUe5sWEx2e--_wsGdc-h7Jx_t9u_Rm3LWtK36sORKfqGk4Abou3m61KsKUVxfIr76E1gz0qYirw54hMXK3LkZ99zm6wvVfLFdKlZeWCKD95Sc_7yh7jQRPJyAJPIhEu3FC2jdP3o_ODXCZp1e9LAUNfNoo68B6dr4oEe49cAuD8ZnAaXLoDKcYdH-b57BH7FtuC0jDJ83AfdP6IuIPY76Zm9p14d4z4Q4kBvErKQB0dzMwJGWvwgWbcML90Hqx6qGZuc4AkctWvA7KpDK5q4Kuc5QxMdru9zBAfyOhUu1YPL6j_FH_rhu2wv4rEo_UcpKfk2TcfNpEEgItezhKVO6BV-jW2YRpc26IrK5Cx4WtDc1gPgCNOPFQRWa3_wxjL0qyw7__A49-45DEMIBuEl7VrA3xxrULOPyQpxMdxuV7vvBFBC1SHugNSTn27bn0gUaQ2c7I-cQ04y8v3fj_zggER0AkPj88Y6iLNbAatIKhSw4bSk6vlDI5xHZi0YcNqzQYUaf9FRmvDsLV5gHsQcy6sn24LRhNGN-HFBjMb8e05JRRWdAymObVAYsDSyzb6r7KPW3D9-QgEjR_-yTr77lHM5wOHHYEHgYaiepo_c4uWFx1kIdVPPzYy3tXPAQ1URonJa0O3N1-fnvSOsE1joWHP-FVCaT9l0JkiP5ZaOWilmiGRE7YAzXL5ztm_Xp-cg3BcgEdJt1V3_7ATlYXBTkNrldbpsYTj90N_i9m4JWlA5pPoE2iCjUhaGyUZB3Kp00IM0q5tio8RnFprhttlL9rUZ2QjAj1qkvafhQUfZnEkfqqbTCUYOQMHjYjwbvSKldJMe-Jq8nkgCs6Pk0Fv8t5SK8P0GvAbFKUr3VSmIhyHK28d97esbmFQbwjl3pYoT0KFYYXLZf7kmUunIGz2PdxPZVxENTcpi9pfiIMn4d9ojv5UiO2A../download\n",
            "Resolving public.boxcloud.com (public.boxcloud.com)... 107.152.26.200\n",
            "Connecting to public.boxcloud.com (public.boxcloud.com)|107.152.26.200|:443... connected.\n",
            "HTTP request sent, awaiting response... 200 OK\n",
            "Length: 2891 (2.8K) [text/csv]\n",
            "Saving to: ‘Geospatial_data’\n",
            "\n",
            "Geospatial_data     100%[===================>]   2.82K  --.-KB/s    in 0s      \n",
            "\n",
            "2020-01-15 09:19:55 (428 MB/s) - ‘Geospatial_data’ saved [2891/2891]\n",
            "\n"
          ],
          "name": "stdout"
        }
      ]
    },
    {
      "cell_type": "code",
      "metadata": {
        "id": "2K4CxyHyK62B",
        "colab_type": "code",
        "outputId": "16d2cf1c-44e6-493c-fc40-a9c5e9297eb2",
        "colab": {
          "base_uri": "https://localhost:8080/",
          "height": 204
        }
      },
      "source": [
        "geo_file = codecs.open('Geospatial_data', encoding='utf-8')\n",
        "geo_df = pd.read_csv(geo_file)\n",
        "geo_df.head()"
      ],
      "execution_count": 8,
      "outputs": [
        {
          "output_type": "execute_result",
          "data": {
            "text/html": [
              "<div>\n",
              "<style scoped>\n",
              "    .dataframe tbody tr th:only-of-type {\n",
              "        vertical-align: middle;\n",
              "    }\n",
              "\n",
              "    .dataframe tbody tr th {\n",
              "        vertical-align: top;\n",
              "    }\n",
              "\n",
              "    .dataframe thead th {\n",
              "        text-align: right;\n",
              "    }\n",
              "</style>\n",
              "<table border=\"1\" class=\"dataframe\">\n",
              "  <thead>\n",
              "    <tr style=\"text-align: right;\">\n",
              "      <th></th>\n",
              "      <th>Postal Code</th>\n",
              "      <th>Latitude</th>\n",
              "      <th>Longitude</th>\n",
              "    </tr>\n",
              "  </thead>\n",
              "  <tbody>\n",
              "    <tr>\n",
              "      <th>0</th>\n",
              "      <td>M1B</td>\n",
              "      <td>43.806686</td>\n",
              "      <td>-79.194353</td>\n",
              "    </tr>\n",
              "    <tr>\n",
              "      <th>1</th>\n",
              "      <td>M1C</td>\n",
              "      <td>43.784535</td>\n",
              "      <td>-79.160497</td>\n",
              "    </tr>\n",
              "    <tr>\n",
              "      <th>2</th>\n",
              "      <td>M1E</td>\n",
              "      <td>43.763573</td>\n",
              "      <td>-79.188711</td>\n",
              "    </tr>\n",
              "    <tr>\n",
              "      <th>3</th>\n",
              "      <td>M1G</td>\n",
              "      <td>43.770992</td>\n",
              "      <td>-79.216917</td>\n",
              "    </tr>\n",
              "    <tr>\n",
              "      <th>4</th>\n",
              "      <td>M1H</td>\n",
              "      <td>43.773136</td>\n",
              "      <td>-79.239476</td>\n",
              "    </tr>\n",
              "  </tbody>\n",
              "</table>\n",
              "</div>"
            ],
            "text/plain": [
              "  Postal Code   Latitude  Longitude\n",
              "0         M1B  43.806686 -79.194353\n",
              "1         M1C  43.784535 -79.160497\n",
              "2         M1E  43.763573 -79.188711\n",
              "3         M1G  43.770992 -79.216917\n",
              "4         M1H  43.773136 -79.239476"
            ]
          },
          "metadata": {
            "tags": []
          },
          "execution_count": 8
        }
      ]
    },
    {
      "cell_type": "code",
      "metadata": {
        "id": "C2aLaJcsQVD3",
        "colab_type": "code",
        "outputId": "6e96b630-c76d-4ad3-c5db-4d44e0a8ba6c",
        "colab": {
          "base_uri": "https://localhost:8080/",
          "height": 34
        }
      },
      "source": [
        "geo_df.shape"
      ],
      "execution_count": 9,
      "outputs": [
        {
          "output_type": "execute_result",
          "data": {
            "text/plain": [
              "(103, 3)"
            ]
          },
          "metadata": {
            "tags": []
          },
          "execution_count": 9
        }
      ]
    },
    {
      "cell_type": "markdown",
      "metadata": {
        "id": "0C91ReGvYWVG",
        "colab_type": "text"
      },
      "source": [
        "## 4. Merge data frames"
      ]
    },
    {
      "cell_type": "markdown",
      "metadata": {
        "id": "MbnxHnpxX5I-",
        "colab_type": "text"
      },
      "source": [
        "Rename the 'Postal Code' column to 'Postcode' to match the df1 data frame"
      ]
    },
    {
      "cell_type": "code",
      "metadata": {
        "id": "1iXpx-ZRXEZ3",
        "colab_type": "code",
        "outputId": "79658f0c-23ce-47f2-afd3-12ab976f3dd3",
        "colab": {
          "base_uri": "https://localhost:8080/",
          "height": 34
        }
      },
      "source": [
        "geo_df.rename(columns={'Postal Code': 'Postcode'}, inplace=True)\n",
        "geo_df.columns"
      ],
      "execution_count": 10,
      "outputs": [
        {
          "output_type": "execute_result",
          "data": {
            "text/plain": [
              "Index(['Postcode', 'Latitude', 'Longitude'], dtype='object')"
            ]
          },
          "metadata": {
            "tags": []
          },
          "execution_count": 10
        }
      ]
    },
    {
      "cell_type": "markdown",
      "metadata": {
        "id": "IbDtPbg4YDNs",
        "colab_type": "text"
      },
      "source": [
        "Merge the two data frames based on postal code"
      ]
    },
    {
      "cell_type": "code",
      "metadata": {
        "id": "U__PqLIwVjFA",
        "colab_type": "code",
        "outputId": "db248cc8-2eb3-43f4-bf78-9cbc64a8698e",
        "colab": {
          "base_uri": "https://localhost:8080/",
          "height": 504
        }
      },
      "source": [
        "df2 = pd.merge(df1, geo_df, on='Postcode')\n",
        "df2"
      ],
      "execution_count": 11,
      "outputs": [
        {
          "output_type": "execute_result",
          "data": {
            "text/html": [
              "<div>\n",
              "<style scoped>\n",
              "    .dataframe tbody tr th:only-of-type {\n",
              "        vertical-align: middle;\n",
              "    }\n",
              "\n",
              "    .dataframe tbody tr th {\n",
              "        vertical-align: top;\n",
              "    }\n",
              "\n",
              "    .dataframe thead th {\n",
              "        text-align: right;\n",
              "    }\n",
              "</style>\n",
              "<table border=\"1\" class=\"dataframe\">\n",
              "  <thead>\n",
              "    <tr style=\"text-align: right;\">\n",
              "      <th></th>\n",
              "      <th>Postcode</th>\n",
              "      <th>Borough</th>\n",
              "      <th>Neighbourhood</th>\n",
              "      <th>Latitude</th>\n",
              "      <th>Longitude</th>\n",
              "    </tr>\n",
              "  </thead>\n",
              "  <tbody>\n",
              "    <tr>\n",
              "      <th>0</th>\n",
              "      <td>M3A</td>\n",
              "      <td>North York</td>\n",
              "      <td>Parkwoods</td>\n",
              "      <td>43.753259</td>\n",
              "      <td>-79.329656</td>\n",
              "    </tr>\n",
              "    <tr>\n",
              "      <th>1</th>\n",
              "      <td>M4A</td>\n",
              "      <td>North York</td>\n",
              "      <td>Victoria Village</td>\n",
              "      <td>43.725882</td>\n",
              "      <td>-79.315572</td>\n",
              "    </tr>\n",
              "    <tr>\n",
              "      <th>2</th>\n",
              "      <td>M5A</td>\n",
              "      <td>Downtown Toronto</td>\n",
              "      <td>Harbourfront</td>\n",
              "      <td>43.654260</td>\n",
              "      <td>-79.360636</td>\n",
              "    </tr>\n",
              "    <tr>\n",
              "      <th>3</th>\n",
              "      <td>M6A</td>\n",
              "      <td>North York</td>\n",
              "      <td>Lawrence Heights, Lawrence Manor</td>\n",
              "      <td>43.718518</td>\n",
              "      <td>-79.464763</td>\n",
              "    </tr>\n",
              "    <tr>\n",
              "      <th>4</th>\n",
              "      <td>M7A</td>\n",
              "      <td>Downtown Toronto</td>\n",
              "      <td>Queen's Park</td>\n",
              "      <td>43.662301</td>\n",
              "      <td>-79.389494</td>\n",
              "    </tr>\n",
              "    <tr>\n",
              "      <th>...</th>\n",
              "      <td>...</td>\n",
              "      <td>...</td>\n",
              "      <td>...</td>\n",
              "      <td>...</td>\n",
              "      <td>...</td>\n",
              "    </tr>\n",
              "    <tr>\n",
              "      <th>98</th>\n",
              "      <td>M8X</td>\n",
              "      <td>Etobicoke</td>\n",
              "      <td>The Kingsway, Montgomery Road, Old Mill North</td>\n",
              "      <td>43.653654</td>\n",
              "      <td>-79.506944</td>\n",
              "    </tr>\n",
              "    <tr>\n",
              "      <th>99</th>\n",
              "      <td>M4Y</td>\n",
              "      <td>Downtown Toronto</td>\n",
              "      <td>Church and Wellesley</td>\n",
              "      <td>43.665860</td>\n",
              "      <td>-79.383160</td>\n",
              "    </tr>\n",
              "    <tr>\n",
              "      <th>100</th>\n",
              "      <td>M7Y</td>\n",
              "      <td>East Toronto</td>\n",
              "      <td>Business Reply Mail Processing Centre 969 Eastern</td>\n",
              "      <td>43.662744</td>\n",
              "      <td>-79.321558</td>\n",
              "    </tr>\n",
              "    <tr>\n",
              "      <th>101</th>\n",
              "      <td>M8Y</td>\n",
              "      <td>Etobicoke</td>\n",
              "      <td>Humber Bay, King's Mill Park, Kingsway Park So...</td>\n",
              "      <td>43.636258</td>\n",
              "      <td>-79.498509</td>\n",
              "    </tr>\n",
              "    <tr>\n",
              "      <th>102</th>\n",
              "      <td>M8Z</td>\n",
              "      <td>Etobicoke</td>\n",
              "      <td>Kingsway Park South West, Mimico NW, The Queen...</td>\n",
              "      <td>43.628841</td>\n",
              "      <td>-79.520999</td>\n",
              "    </tr>\n",
              "  </tbody>\n",
              "</table>\n",
              "<p>103 rows × 5 columns</p>\n",
              "</div>"
            ],
            "text/plain": [
              "    Postcode           Borough  ...   Latitude  Longitude\n",
              "0        M3A        North York  ...  43.753259 -79.329656\n",
              "1        M4A        North York  ...  43.725882 -79.315572\n",
              "2        M5A  Downtown Toronto  ...  43.654260 -79.360636\n",
              "3        M6A        North York  ...  43.718518 -79.464763\n",
              "4        M7A  Downtown Toronto  ...  43.662301 -79.389494\n",
              "..       ...               ...  ...        ...        ...\n",
              "98       M8X         Etobicoke  ...  43.653654 -79.506944\n",
              "99       M4Y  Downtown Toronto  ...  43.665860 -79.383160\n",
              "100      M7Y      East Toronto  ...  43.662744 -79.321558\n",
              "101      M8Y         Etobicoke  ...  43.636258 -79.498509\n",
              "102      M8Z         Etobicoke  ...  43.628841 -79.520999\n",
              "\n",
              "[103 rows x 5 columns]"
            ]
          },
          "metadata": {
            "tags": []
          },
          "execution_count": 11
        }
      ]
    },
    {
      "cell_type": "markdown",
      "metadata": {
        "id": "rBnZNc1NhAK5",
        "colab_type": "text"
      },
      "source": [
        "Save df2 to a csv file"
      ]
    },
    {
      "cell_type": "code",
      "metadata": {
        "id": "OiDbY4ImhE5Y",
        "colab_type": "code",
        "colab": {}
      },
      "source": [
        "df2.to_csv('toronto_data_2.csv', index=False)"
      ],
      "execution_count": 0,
      "outputs": []
    }
  ]
}