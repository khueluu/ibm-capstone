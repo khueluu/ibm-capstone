{
  "nbformat": 4,
  "nbformat_minor": 0,
  "metadata": {
    "colab": {
      "name": "Week3_part1.ipynb",
      "provenance": []
    },
    "kernelspec": {
      "name": "python3",
      "display_name": "Python 3"
    }
  },
  "cells": [
    {
      "cell_type": "markdown",
      "metadata": {
        "id": "2BGu70Z7PxHs",
        "colab_type": "text"
      },
      "source": [
        "# Question 1"
      ]
    },
    {
      "cell_type": "markdown",
      "metadata": {
        "id": "2vN-wVTDPy2d",
        "colab_type": "text"
      },
      "source": [
        "## 1. Import libraries"
      ]
    },
    {
      "cell_type": "code",
      "metadata": {
        "id": "mlUQizBT_-LA",
        "colab_type": "code",
        "colab": {}
      },
      "source": [
        "import pandas as pd\n",
        "import numpy as np\n",
        "import codecs\n",
        "from bs4 import BeautifulSoup"
      ],
      "execution_count": 0,
      "outputs": []
    },
    {
      "cell_type": "markdown",
      "metadata": {
        "id": "aw4nUmVdKgf6",
        "colab_type": "text"
      },
      "source": [
        "## 2. Download and read data to a data frame"
      ]
    },
    {
      "cell_type": "code",
      "metadata": {
        "id": "fhL0rsRKFF_p",
        "colab_type": "code",
        "colab": {
          "base_uri": "https://localhost:8080/",
          "height": 221
        },
        "outputId": "caa24515-8c6a-4602-b3a3-15445bc01bc6"
      },
      "source": [
        "!wget https://en.wikipedia.org/wiki/List_of_postal_codes_of_Canada:_M\n",
        "print(\"Data downloaded successfully!\")"
      ],
      "execution_count": 196,
      "outputs": [
        {
          "output_type": "stream",
          "text": [
            "--2020-01-15 09:13:56--  https://en.wikipedia.org/wiki/List_of_postal_codes_of_Canada:_M\n",
            "Resolving en.wikipedia.org (en.wikipedia.org)... 208.80.154.224, 2620:0:863:ed1a::1\n",
            "Connecting to en.wikipedia.org (en.wikipedia.org)|208.80.154.224|:443... connected.\n",
            "HTTP request sent, awaiting response... 200 OK\n",
            "Length: 78806 (77K) [text/html]\n",
            "Saving to: ‘List_of_postal_codes_of_Canada:_M’\n",
            "\n",
            "\r          List_of_p   0%[                    ]       0  --.-KB/s               \rList_of_postal_code 100%[===================>]  76.96K   489KB/s    in 0.2s    \n",
            "\n",
            "2020-01-15 09:13:57 (489 KB/s) - ‘List_of_postal_codes_of_Canada:_M’ saved [78806/78806]\n",
            "\n",
            "Data downloaded successfully!\n"
          ],
          "name": "stdout"
        }
      ]
    },
    {
      "cell_type": "code",
      "metadata": {
        "id": "cDVXRcCyAC9q",
        "colab_type": "code",
        "colab": {}
      },
      "source": [
        "file = codecs.open('List_of_postal_codes_of_Canada:_M', encoding='utf-8')\n",
        "html_doc = file.read()\n",
        "soup = BeautifulSoup(html_doc, 'html.parser')\n",
        "df = (pd.read_html(str(soup.table))[0])"
      ],
      "execution_count": 0,
      "outputs": []
    },
    {
      "cell_type": "markdown",
      "metadata": {
        "id": "TgrXpBGY__4z",
        "colab_type": "text"
      },
      "source": [
        "Check original shape of the data frame"
      ]
    },
    {
      "cell_type": "code",
      "metadata": {
        "id": "032gMRUQ-axD",
        "colab_type": "code",
        "colab": {
          "base_uri": "https://localhost:8080/",
          "height": 34
        },
        "outputId": "21187048-af22-4db2-c492-cbc0e8b9a5ce"
      },
      "source": [
        "df.shape"
      ],
      "execution_count": 198,
      "outputs": [
        {
          "output_type": "execute_result",
          "data": {
            "text/plain": [
              "(287, 3)"
            ]
          },
          "metadata": {
            "tags": []
          },
          "execution_count": 198
        }
      ]
    },
    {
      "cell_type": "markdown",
      "metadata": {
        "id": "EDNyXEWGAF0k",
        "colab_type": "text"
      },
      "source": [
        "See a few first rows of the data frame"
      ]
    },
    {
      "cell_type": "code",
      "metadata": {
        "id": "WkTay4IcQGZY",
        "colab_type": "code",
        "outputId": "81897239-9ddc-44cd-d8a2-9d175a25de3e",
        "colab": {
          "base_uri": "https://localhost:8080/",
          "height": 204
        }
      },
      "source": [
        "df.head()"
      ],
      "execution_count": 199,
      "outputs": [
        {
          "output_type": "execute_result",
          "data": {
            "text/html": [
              "<div>\n",
              "<style scoped>\n",
              "    .dataframe tbody tr th:only-of-type {\n",
              "        vertical-align: middle;\n",
              "    }\n",
              "\n",
              "    .dataframe tbody tr th {\n",
              "        vertical-align: top;\n",
              "    }\n",
              "\n",
              "    .dataframe thead th {\n",
              "        text-align: right;\n",
              "    }\n",
              "</style>\n",
              "<table border=\"1\" class=\"dataframe\">\n",
              "  <thead>\n",
              "    <tr style=\"text-align: right;\">\n",
              "      <th></th>\n",
              "      <th>Postcode</th>\n",
              "      <th>Borough</th>\n",
              "      <th>Neighbourhood</th>\n",
              "    </tr>\n",
              "  </thead>\n",
              "  <tbody>\n",
              "    <tr>\n",
              "      <th>0</th>\n",
              "      <td>M1A</td>\n",
              "      <td>Not assigned</td>\n",
              "      <td>Not assigned</td>\n",
              "    </tr>\n",
              "    <tr>\n",
              "      <th>1</th>\n",
              "      <td>M2A</td>\n",
              "      <td>Not assigned</td>\n",
              "      <td>Not assigned</td>\n",
              "    </tr>\n",
              "    <tr>\n",
              "      <th>2</th>\n",
              "      <td>M3A</td>\n",
              "      <td>North York</td>\n",
              "      <td>Parkwoods</td>\n",
              "    </tr>\n",
              "    <tr>\n",
              "      <th>3</th>\n",
              "      <td>M4A</td>\n",
              "      <td>North York</td>\n",
              "      <td>Victoria Village</td>\n",
              "    </tr>\n",
              "    <tr>\n",
              "      <th>4</th>\n",
              "      <td>M5A</td>\n",
              "      <td>Downtown Toronto</td>\n",
              "      <td>Harbourfront</td>\n",
              "    </tr>\n",
              "  </tbody>\n",
              "</table>\n",
              "</div>"
            ],
            "text/plain": [
              "  Postcode           Borough     Neighbourhood\n",
              "0      M1A      Not assigned      Not assigned\n",
              "1      M2A      Not assigned      Not assigned\n",
              "2      M3A        North York         Parkwoods\n",
              "3      M4A        North York  Victoria Village\n",
              "4      M5A  Downtown Toronto      Harbourfront"
            ]
          },
          "metadata": {
            "tags": []
          },
          "execution_count": 199
        }
      ]
    },
    {
      "cell_type": "markdown",
      "metadata": {
        "id": "kmh_jJSnKo9L",
        "colab_type": "text"
      },
      "source": [
        "## 3. Remove rows with 'Not assigned' borough"
      ]
    },
    {
      "cell_type": "markdown",
      "metadata": {
        "id": "EnGxd0vrAMgp",
        "colab_type": "text"
      },
      "source": [
        "First, check all unique values of the Borough column to see 'Not assigned' variations"
      ]
    },
    {
      "cell_type": "code",
      "metadata": {
        "id": "2_dtpimr_wT2",
        "colab_type": "code",
        "colab": {
          "base_uri": "https://localhost:8080/",
          "height": 68
        },
        "outputId": "1a1f8c98-0c85-42ba-bee8-efb3829f06a6"
      },
      "source": [
        "# Check unique values of the Borough columns\n",
        "df['Borough'].unique()"
      ],
      "execution_count": 200,
      "outputs": [
        {
          "output_type": "execute_result",
          "data": {
            "text/plain": [
              "array(['Not assigned', 'North York', 'Downtown Toronto', \"Queen's Park\",\n",
              "       'Scarborough', 'East York', 'Etobicoke', 'York', 'East Toronto',\n",
              "       'West Toronto', 'Central Toronto', 'Mississauga'], dtype=object)"
            ]
          },
          "metadata": {
            "tags": []
          },
          "execution_count": 200
        }
      ]
    },
    {
      "cell_type": "markdown",
      "metadata": {
        "id": "N-fk8uxKCD9q",
        "colab_type": "text"
      },
      "source": [
        "We can see that there is only one not-assigned value with the format 'Not assgined'. </br>\n",
        "Second, count all 'Not assigned' borough"
      ]
    },
    {
      "cell_type": "code",
      "metadata": {
        "id": "fo3O684y96af",
        "colab_type": "code",
        "colab": {
          "base_uri": "https://localhost:8080/",
          "height": 419
        },
        "outputId": "c674b279-0da6-4c7c-f698-03d1cdab9474"
      },
      "source": [
        "df[df['Borough'] == 'Not assigned']"
      ],
      "execution_count": 201,
      "outputs": [
        {
          "output_type": "execute_result",
          "data": {
            "text/html": [
              "<div>\n",
              "<style scoped>\n",
              "    .dataframe tbody tr th:only-of-type {\n",
              "        vertical-align: middle;\n",
              "    }\n",
              "\n",
              "    .dataframe tbody tr th {\n",
              "        vertical-align: top;\n",
              "    }\n",
              "\n",
              "    .dataframe thead th {\n",
              "        text-align: right;\n",
              "    }\n",
              "</style>\n",
              "<table border=\"1\" class=\"dataframe\">\n",
              "  <thead>\n",
              "    <tr style=\"text-align: right;\">\n",
              "      <th></th>\n",
              "      <th>Postcode</th>\n",
              "      <th>Borough</th>\n",
              "      <th>Neighbourhood</th>\n",
              "    </tr>\n",
              "  </thead>\n",
              "  <tbody>\n",
              "    <tr>\n",
              "      <th>0</th>\n",
              "      <td>M1A</td>\n",
              "      <td>Not assigned</td>\n",
              "      <td>Not assigned</td>\n",
              "    </tr>\n",
              "    <tr>\n",
              "      <th>1</th>\n",
              "      <td>M2A</td>\n",
              "      <td>Not assigned</td>\n",
              "      <td>Not assigned</td>\n",
              "    </tr>\n",
              "    <tr>\n",
              "      <th>8</th>\n",
              "      <td>M8A</td>\n",
              "      <td>Not assigned</td>\n",
              "      <td>Not assigned</td>\n",
              "    </tr>\n",
              "    <tr>\n",
              "      <th>12</th>\n",
              "      <td>M2B</td>\n",
              "      <td>Not assigned</td>\n",
              "      <td>Not assigned</td>\n",
              "    </tr>\n",
              "    <tr>\n",
              "      <th>19</th>\n",
              "      <td>M7B</td>\n",
              "      <td>Not assigned</td>\n",
              "      <td>Not assigned</td>\n",
              "    </tr>\n",
              "    <tr>\n",
              "      <th>...</th>\n",
              "      <td>...</td>\n",
              "      <td>...</td>\n",
              "      <td>...</td>\n",
              "    </tr>\n",
              "    <tr>\n",
              "      <th>277</th>\n",
              "      <td>M4Z</td>\n",
              "      <td>Not assigned</td>\n",
              "      <td>Not assigned</td>\n",
              "    </tr>\n",
              "    <tr>\n",
              "      <th>278</th>\n",
              "      <td>M5Z</td>\n",
              "      <td>Not assigned</td>\n",
              "      <td>Not assigned</td>\n",
              "    </tr>\n",
              "    <tr>\n",
              "      <th>279</th>\n",
              "      <td>M6Z</td>\n",
              "      <td>Not assigned</td>\n",
              "      <td>Not assigned</td>\n",
              "    </tr>\n",
              "    <tr>\n",
              "      <th>280</th>\n",
              "      <td>M7Z</td>\n",
              "      <td>Not assigned</td>\n",
              "      <td>Not assigned</td>\n",
              "    </tr>\n",
              "    <tr>\n",
              "      <th>286</th>\n",
              "      <td>M9Z</td>\n",
              "      <td>Not assigned</td>\n",
              "      <td>Not assigned</td>\n",
              "    </tr>\n",
              "  </tbody>\n",
              "</table>\n",
              "<p>77 rows × 3 columns</p>\n",
              "</div>"
            ],
            "text/plain": [
              "    Postcode       Borough Neighbourhood\n",
              "0        M1A  Not assigned  Not assigned\n",
              "1        M2A  Not assigned  Not assigned\n",
              "8        M8A  Not assigned  Not assigned\n",
              "12       M2B  Not assigned  Not assigned\n",
              "19       M7B  Not assigned  Not assigned\n",
              "..       ...           ...           ...\n",
              "277      M4Z  Not assigned  Not assigned\n",
              "278      M5Z  Not assigned  Not assigned\n",
              "279      M6Z  Not assigned  Not assigned\n",
              "280      M7Z  Not assigned  Not assigned\n",
              "286      M9Z  Not assigned  Not assigned\n",
              "\n",
              "[77 rows x 3 columns]"
            ]
          },
          "metadata": {
            "tags": []
          },
          "execution_count": 201
        }
      ]
    },
    {
      "cell_type": "markdown",
      "metadata": {
        "id": "kF4_w1ztD4XQ",
        "colab_type": "text"
      },
      "source": [
        "There are 77 rows with 'Not assigned' values. After the remove, the data frame should have 210 rows."
      ]
    },
    {
      "cell_type": "code",
      "metadata": {
        "id": "KwvpyKPt-MSx",
        "colab_type": "code",
        "colab": {
          "base_uri": "https://localhost:8080/",
          "height": 419
        },
        "outputId": "2952f97e-3c72-4ea4-8bbb-66845faf9b64"
      },
      "source": [
        "df = df[df['Borough'] != \"Not assigned\"].reset_index(drop=True)\n",
        "df"
      ],
      "execution_count": 202,
      "outputs": [
        {
          "output_type": "execute_result",
          "data": {
            "text/html": [
              "<div>\n",
              "<style scoped>\n",
              "    .dataframe tbody tr th:only-of-type {\n",
              "        vertical-align: middle;\n",
              "    }\n",
              "\n",
              "    .dataframe tbody tr th {\n",
              "        vertical-align: top;\n",
              "    }\n",
              "\n",
              "    .dataframe thead th {\n",
              "        text-align: right;\n",
              "    }\n",
              "</style>\n",
              "<table border=\"1\" class=\"dataframe\">\n",
              "  <thead>\n",
              "    <tr style=\"text-align: right;\">\n",
              "      <th></th>\n",
              "      <th>Postcode</th>\n",
              "      <th>Borough</th>\n",
              "      <th>Neighbourhood</th>\n",
              "    </tr>\n",
              "  </thead>\n",
              "  <tbody>\n",
              "    <tr>\n",
              "      <th>0</th>\n",
              "      <td>M3A</td>\n",
              "      <td>North York</td>\n",
              "      <td>Parkwoods</td>\n",
              "    </tr>\n",
              "    <tr>\n",
              "      <th>1</th>\n",
              "      <td>M4A</td>\n",
              "      <td>North York</td>\n",
              "      <td>Victoria Village</td>\n",
              "    </tr>\n",
              "    <tr>\n",
              "      <th>2</th>\n",
              "      <td>M5A</td>\n",
              "      <td>Downtown Toronto</td>\n",
              "      <td>Harbourfront</td>\n",
              "    </tr>\n",
              "    <tr>\n",
              "      <th>3</th>\n",
              "      <td>M6A</td>\n",
              "      <td>North York</td>\n",
              "      <td>Lawrence Heights</td>\n",
              "    </tr>\n",
              "    <tr>\n",
              "      <th>4</th>\n",
              "      <td>M6A</td>\n",
              "      <td>North York</td>\n",
              "      <td>Lawrence Manor</td>\n",
              "    </tr>\n",
              "    <tr>\n",
              "      <th>...</th>\n",
              "      <td>...</td>\n",
              "      <td>...</td>\n",
              "      <td>...</td>\n",
              "    </tr>\n",
              "    <tr>\n",
              "      <th>205</th>\n",
              "      <td>M8Z</td>\n",
              "      <td>Etobicoke</td>\n",
              "      <td>Kingsway Park South West</td>\n",
              "    </tr>\n",
              "    <tr>\n",
              "      <th>206</th>\n",
              "      <td>M8Z</td>\n",
              "      <td>Etobicoke</td>\n",
              "      <td>Mimico NW</td>\n",
              "    </tr>\n",
              "    <tr>\n",
              "      <th>207</th>\n",
              "      <td>M8Z</td>\n",
              "      <td>Etobicoke</td>\n",
              "      <td>The Queensway West</td>\n",
              "    </tr>\n",
              "    <tr>\n",
              "      <th>208</th>\n",
              "      <td>M8Z</td>\n",
              "      <td>Etobicoke</td>\n",
              "      <td>Royal York South West</td>\n",
              "    </tr>\n",
              "    <tr>\n",
              "      <th>209</th>\n",
              "      <td>M8Z</td>\n",
              "      <td>Etobicoke</td>\n",
              "      <td>South of Bloor</td>\n",
              "    </tr>\n",
              "  </tbody>\n",
              "</table>\n",
              "<p>210 rows × 3 columns</p>\n",
              "</div>"
            ],
            "text/plain": [
              "    Postcode           Borough             Neighbourhood\n",
              "0        M3A        North York                 Parkwoods\n",
              "1        M4A        North York          Victoria Village\n",
              "2        M5A  Downtown Toronto              Harbourfront\n",
              "3        M6A        North York          Lawrence Heights\n",
              "4        M6A        North York            Lawrence Manor\n",
              "..       ...               ...                       ...\n",
              "205      M8Z         Etobicoke  Kingsway Park South West\n",
              "206      M8Z         Etobicoke                 Mimico NW\n",
              "207      M8Z         Etobicoke        The Queensway West\n",
              "208      M8Z         Etobicoke     Royal York South West\n",
              "209      M8Z         Etobicoke            South of Bloor\n",
              "\n",
              "[210 rows x 3 columns]"
            ]
          },
          "metadata": {
            "tags": []
          },
          "execution_count": 202
        }
      ]
    },
    {
      "cell_type": "markdown",
      "metadata": {
        "id": "Eu8kc2R9EXUH",
        "colab_type": "text"
      },
      "source": [
        "Finally, check the unique values of borough column once again."
      ]
    },
    {
      "cell_type": "code",
      "metadata": {
        "id": "HVkMdqyLFLWf",
        "colab_type": "code",
        "outputId": "b1ed7ab5-adeb-4f47-df3f-ba561a504761",
        "colab": {
          "base_uri": "https://localhost:8080/",
          "height": 68
        }
      },
      "source": [
        "df['Borough'].unique()"
      ],
      "execution_count": 203,
      "outputs": [
        {
          "output_type": "execute_result",
          "data": {
            "text/plain": [
              "array(['North York', 'Downtown Toronto', \"Queen's Park\", 'Scarborough',\n",
              "       'East York', 'Etobicoke', 'York', 'East Toronto', 'West Toronto',\n",
              "       'Central Toronto', 'Mississauga'], dtype=object)"
            ]
          },
          "metadata": {
            "tags": []
          },
          "execution_count": 203
        }
      ]
    },
    {
      "cell_type": "markdown",
      "metadata": {
        "id": "P3nEVTpXLRGx",
        "colab_type": "text"
      },
      "source": [
        "## 4. Update 'not assigned' neighborhoods with borough names"
      ]
    },
    {
      "cell_type": "markdown",
      "metadata": {
        "id": "rGVEy9q-GkNb",
        "colab_type": "text"
      },
      "source": [
        "Check all unique values of Neighbourhood column"
      ]
    },
    {
      "cell_type": "code",
      "metadata": {
        "id": "EDPgzCWGF93T",
        "colab_type": "code",
        "colab": {
          "base_uri": "https://localhost:8080/",
          "height": 1000
        },
        "outputId": "55163017-4531-4916-dd34-f3ee3db1ba10"
      },
      "source": [
        "df['Neighbourhood'].unique()"
      ],
      "execution_count": 204,
      "outputs": [
        {
          "output_type": "execute_result",
          "data": {
            "text/plain": [
              "array(['Parkwoods', 'Victoria Village', 'Harbourfront',\n",
              "       'Lawrence Heights', 'Lawrence Manor', \"Queen's Park\",\n",
              "       'Not assigned', 'Rouge', 'Malvern', 'Don Mills North',\n",
              "       'Woodbine Gardens', 'Parkview Hill', 'Ryerson', 'Garden District',\n",
              "       'Glencairn', 'Cloverdale', 'Islington', 'Martin Grove',\n",
              "       'Princess Gardens', 'West Deane Park', 'Highland Creek',\n",
              "       'Rouge Hill', 'Port Union', 'Flemingdon Park', 'Don Mills South',\n",
              "       'Woodbine Heights', 'St. James Town', 'Humewood-Cedarvale',\n",
              "       'Bloordale Gardens', 'Eringate', 'Markland Wood',\n",
              "       'Old Burnhamthorpe', 'Guildwood', 'Morningside', 'West Hill',\n",
              "       'The Beaches', 'Berczy Park', 'Caledonia-Fairbanks', 'Woburn',\n",
              "       'Leaside', 'Central Bay Street', 'Christie', 'Cedarbrae',\n",
              "       'Hillcrest Village', 'Bathurst Manor', 'Downsview North',\n",
              "       'Wilson Heights', 'Thorncliffe Park', 'Adelaide', 'King',\n",
              "       'Richmond', 'Dovercourt Village', 'Dufferin',\n",
              "       'Scarborough Village', 'Fairview', 'Henry Farm', 'Oriole',\n",
              "       'Northwood Park', 'York University', 'East Toronto',\n",
              "       'Harbourfront East', 'Toronto Islands', 'Union Station',\n",
              "       'Little Portugal', 'Trinity', 'East Birchmount Park', 'Ionview',\n",
              "       'Kennedy Park', 'Bayview Village', 'CFB Toronto', 'Downsview East',\n",
              "       'The Danforth West', 'Riverdale', 'Design Exchange',\n",
              "       'Toronto Dominion Centre', 'Brockton', 'Exhibition Place',\n",
              "       'Parkdale Village', 'Clairlea', 'Golden Mile', 'Oakridge',\n",
              "       'Silver Hills', 'York Mills', 'Downsview West', 'The Beaches West',\n",
              "       'India Bazaar', 'Commerce Court', 'Victoria Hotel', 'Downsview',\n",
              "       'North Park', 'Upwood Park', 'Humber Summit', 'Cliffcrest',\n",
              "       'Cliffside', 'Scarborough Village West', 'Newtonbrook',\n",
              "       'Willowdale', 'Downsview Central', 'Studio District',\n",
              "       'Bedford Park', 'Lawrence Manor East', 'Del Ray', 'Keelesdale',\n",
              "       'Mount Dennis', 'Silverthorn', 'Emery', 'Humberlea', 'Birch Cliff',\n",
              "       'Cliffside West', 'Willowdale South', 'Downsview Northwest',\n",
              "       'Lawrence Park', 'Roselawn', 'The Junction North', 'Runnymede',\n",
              "       'Weston', 'Dorset Park', 'Scarborough Town Centre',\n",
              "       'Wexford Heights', 'York Mills West', 'Davisville North',\n",
              "       'Forest Hill North', 'Forest Hill West', 'High Park',\n",
              "       'The Junction South', 'Westmount', 'Maryvale', 'Wexford',\n",
              "       'Willowdale West', 'North Toronto West', 'The Annex',\n",
              "       'North Midtown', 'Yorkville', 'Parkdale', 'Roncesvalles',\n",
              "       'Canada Post Gateway Processing Centre', 'Kingsview Village',\n",
              "       'Martin Grove Gardens', 'Richview Gardens', 'St. Phillips',\n",
              "       'Agincourt', 'Davisville', 'Harbord', 'University of Toronto',\n",
              "       'Swansea', 'Clarks Corners', 'Sullivan', \"Tam O'Shanter\",\n",
              "       'Moore Park', 'Summerhill East', 'Chinatown', 'Grange Park',\n",
              "       'Kensington Market', 'Agincourt North', \"L'Amoreaux East\",\n",
              "       'Milliken', 'Steeles East', 'Deer Park', 'Forest Hill SE',\n",
              "       'Rathnelly', 'South Hill', 'Summerhill West', 'CN Tower',\n",
              "       'Bathurst Quay', 'Island airport', 'Harbourfront West',\n",
              "       'King and Spadina', 'Railway Lands', 'South Niagara',\n",
              "       'Humber Bay Shores', 'Mimico South', 'New Toronto',\n",
              "       'Albion Gardens', 'Beaumond Heights', 'Humbergate', 'Jamestown',\n",
              "       'Mount Olive', 'Silverstone', 'South Steeles', 'Thistletown',\n",
              "       \"L'Amoreaux West\", 'Rosedale', 'Stn A PO Boxes 25 The Esplanade',\n",
              "       'Alderwood', 'Long Branch', 'Northwest', 'Upper Rouge',\n",
              "       'Cabbagetown', 'First Canadian Place', 'Underground city',\n",
              "       'The Kingsway', 'Montgomery Road', 'Old Mill North',\n",
              "       'Church and Wellesley',\n",
              "       'Business Reply Mail Processing Centre 969 Eastern', 'Humber Bay',\n",
              "       \"King's Mill Park\", 'Kingsway Park South East', 'Mimico NE',\n",
              "       'Old Mill South', 'The Queensway East', 'Royal York South East',\n",
              "       'Sunnylea', 'Kingsway Park South West', 'Mimico NW',\n",
              "       'The Queensway West', 'Royal York South West', 'South of Bloor'],\n",
              "      dtype=object)"
            ]
          },
          "metadata": {
            "tags": []
          },
          "execution_count": 204
        }
      ]
    },
    {
      "cell_type": "markdown",
      "metadata": {
        "id": "Bzban6PDFkg9",
        "colab_type": "text"
      },
      "source": [
        "Check the number of neighborhoods with 'Not assigned' name"
      ]
    },
    {
      "cell_type": "code",
      "metadata": {
        "id": "qyzuj0QtAFfn",
        "colab_type": "code",
        "outputId": "6132652d-7c2b-49bc-d46d-92c3f5ee7648",
        "colab": {
          "base_uri": "https://localhost:8080/",
          "height": 80
        }
      },
      "source": [
        "not_assigned = df[df['Neighbourhood']=='Not assigned']\n",
        "not_assigned"
      ],
      "execution_count": 205,
      "outputs": [
        {
          "output_type": "execute_result",
          "data": {
            "text/html": [
              "<div>\n",
              "<style scoped>\n",
              "    .dataframe tbody tr th:only-of-type {\n",
              "        vertical-align: middle;\n",
              "    }\n",
              "\n",
              "    .dataframe tbody tr th {\n",
              "        vertical-align: top;\n",
              "    }\n",
              "\n",
              "    .dataframe thead th {\n",
              "        text-align: right;\n",
              "    }\n",
              "</style>\n",
              "<table border=\"1\" class=\"dataframe\">\n",
              "  <thead>\n",
              "    <tr style=\"text-align: right;\">\n",
              "      <th></th>\n",
              "      <th>Postcode</th>\n",
              "      <th>Borough</th>\n",
              "      <th>Neighbourhood</th>\n",
              "    </tr>\n",
              "  </thead>\n",
              "  <tbody>\n",
              "    <tr>\n",
              "      <th>6</th>\n",
              "      <td>M9A</td>\n",
              "      <td>Queen's Park</td>\n",
              "      <td>Not assigned</td>\n",
              "    </tr>\n",
              "  </tbody>\n",
              "</table>\n",
              "</div>"
            ],
            "text/plain": [
              "  Postcode       Borough Neighbourhood\n",
              "6      M9A  Queen's Park  Not assigned"
            ]
          },
          "metadata": {
            "tags": []
          },
          "execution_count": 205
        }
      ]
    },
    {
      "cell_type": "markdown",
      "metadata": {
        "id": "i9_2SbIhGvjk",
        "colab_type": "text"
      },
      "source": [
        "Update neighbourhood name with borough name"
      ]
    },
    {
      "cell_type": "code",
      "metadata": {
        "id": "zq5iud1TLsxY",
        "colab_type": "code",
        "colab": {}
      },
      "source": [
        "for i in range(len(not_assigned)):\n",
        "    row_index = not_assigned.index[0]\n",
        "    df.at[row_index, 'Neighbourhood'] = df.at[row_index, 'Borough']"
      ],
      "execution_count": 0,
      "outputs": []
    },
    {
      "cell_type": "markdown",
      "metadata": {
        "id": "TIoPxL27HVGz",
        "colab_type": "text"
      },
      "source": [
        "Check neighborhood name after update"
      ]
    },
    {
      "cell_type": "code",
      "metadata": {
        "id": "eMVQQRKDG3N0",
        "colab_type": "code",
        "colab": {
          "base_uri": "https://localhost:8080/",
          "height": 49
        },
        "outputId": "69ea662c-a937-449c-e11b-4186cbb3a890"
      },
      "source": [
        "df[df['Neighbourhood']=='Not assigned']"
      ],
      "execution_count": 207,
      "outputs": [
        {
          "output_type": "execute_result",
          "data": {
            "text/html": [
              "<div>\n",
              "<style scoped>\n",
              "    .dataframe tbody tr th:only-of-type {\n",
              "        vertical-align: middle;\n",
              "    }\n",
              "\n",
              "    .dataframe tbody tr th {\n",
              "        vertical-align: top;\n",
              "    }\n",
              "\n",
              "    .dataframe thead th {\n",
              "        text-align: right;\n",
              "    }\n",
              "</style>\n",
              "<table border=\"1\" class=\"dataframe\">\n",
              "  <thead>\n",
              "    <tr style=\"text-align: right;\">\n",
              "      <th></th>\n",
              "      <th>Postcode</th>\n",
              "      <th>Borough</th>\n",
              "      <th>Neighbourhood</th>\n",
              "    </tr>\n",
              "  </thead>\n",
              "  <tbody>\n",
              "  </tbody>\n",
              "</table>\n",
              "</div>"
            ],
            "text/plain": [
              "Empty DataFrame\n",
              "Columns: [Postcode, Borough, Neighbourhood]\n",
              "Index: []"
            ]
          },
          "metadata": {
            "tags": []
          },
          "execution_count": 207
        }
      ]
    },
    {
      "cell_type": "code",
      "metadata": {
        "id": "DMz_d5xVHb_U",
        "colab_type": "code",
        "colab": {
          "base_uri": "https://localhost:8080/",
          "height": 80
        },
        "outputId": "4ab45bc8-b149-4d85-c4d3-ddd20968fd78"
      },
      "source": [
        "df[6:7]"
      ],
      "execution_count": 208,
      "outputs": [
        {
          "output_type": "execute_result",
          "data": {
            "text/html": [
              "<div>\n",
              "<style scoped>\n",
              "    .dataframe tbody tr th:only-of-type {\n",
              "        vertical-align: middle;\n",
              "    }\n",
              "\n",
              "    .dataframe tbody tr th {\n",
              "        vertical-align: top;\n",
              "    }\n",
              "\n",
              "    .dataframe thead th {\n",
              "        text-align: right;\n",
              "    }\n",
              "</style>\n",
              "<table border=\"1\" class=\"dataframe\">\n",
              "  <thead>\n",
              "    <tr style=\"text-align: right;\">\n",
              "      <th></th>\n",
              "      <th>Postcode</th>\n",
              "      <th>Borough</th>\n",
              "      <th>Neighbourhood</th>\n",
              "    </tr>\n",
              "  </thead>\n",
              "  <tbody>\n",
              "    <tr>\n",
              "      <th>6</th>\n",
              "      <td>M9A</td>\n",
              "      <td>Queen's Park</td>\n",
              "      <td>Queen's Park</td>\n",
              "    </tr>\n",
              "  </tbody>\n",
              "</table>\n",
              "</div>"
            ],
            "text/plain": [
              "  Postcode       Borough Neighbourhood\n",
              "6      M9A  Queen's Park  Queen's Park"
            ]
          },
          "metadata": {
            "tags": []
          },
          "execution_count": 208
        }
      ]
    },
    {
      "cell_type": "markdown",
      "metadata": {
        "id": "aZ4Qaz3aKTl6",
        "colab_type": "text"
      },
      "source": [
        "## 5. Group all neighbourhoods that have the same postal code"
      ]
    },
    {
      "cell_type": "markdown",
      "metadata": {
        "id": "Xyfoh3UnIbzY",
        "colab_type": "text"
      },
      "source": [
        "Group neighbourhoods by postal codes"
      ]
    },
    {
      "cell_type": "code",
      "metadata": {
        "id": "k5tk4Sx5PPY3",
        "colab_type": "code",
        "outputId": "ea428f3c-77d5-457a-c1f4-6328b1631e19",
        "colab": {
          "base_uri": "https://localhost:8080/",
          "height": 419
        }
      },
      "source": [
        "aggregations = {\n",
        "    'Neighbourhood':lambda x:', '.join(x)}\n",
        "grouped_df = df.groupby('Postcode').agg(aggregations).reset_index()\n",
        "grouped_df"
      ],
      "execution_count": 209,
      "outputs": [
        {
          "output_type": "execute_result",
          "data": {
            "text/html": [
              "<div>\n",
              "<style scoped>\n",
              "    .dataframe tbody tr th:only-of-type {\n",
              "        vertical-align: middle;\n",
              "    }\n",
              "\n",
              "    .dataframe tbody tr th {\n",
              "        vertical-align: top;\n",
              "    }\n",
              "\n",
              "    .dataframe thead th {\n",
              "        text-align: right;\n",
              "    }\n",
              "</style>\n",
              "<table border=\"1\" class=\"dataframe\">\n",
              "  <thead>\n",
              "    <tr style=\"text-align: right;\">\n",
              "      <th></th>\n",
              "      <th>Postcode</th>\n",
              "      <th>Neighbourhood</th>\n",
              "    </tr>\n",
              "  </thead>\n",
              "  <tbody>\n",
              "    <tr>\n",
              "      <th>0</th>\n",
              "      <td>M1B</td>\n",
              "      <td>Rouge, Malvern</td>\n",
              "    </tr>\n",
              "    <tr>\n",
              "      <th>1</th>\n",
              "      <td>M1C</td>\n",
              "      <td>Highland Creek, Rouge Hill, Port Union</td>\n",
              "    </tr>\n",
              "    <tr>\n",
              "      <th>2</th>\n",
              "      <td>M1E</td>\n",
              "      <td>Guildwood, Morningside, West Hill</td>\n",
              "    </tr>\n",
              "    <tr>\n",
              "      <th>3</th>\n",
              "      <td>M1G</td>\n",
              "      <td>Woburn</td>\n",
              "    </tr>\n",
              "    <tr>\n",
              "      <th>4</th>\n",
              "      <td>M1H</td>\n",
              "      <td>Cedarbrae</td>\n",
              "    </tr>\n",
              "    <tr>\n",
              "      <th>...</th>\n",
              "      <td>...</td>\n",
              "      <td>...</td>\n",
              "    </tr>\n",
              "    <tr>\n",
              "      <th>98</th>\n",
              "      <td>M9N</td>\n",
              "      <td>Weston</td>\n",
              "    </tr>\n",
              "    <tr>\n",
              "      <th>99</th>\n",
              "      <td>M9P</td>\n",
              "      <td>Westmount</td>\n",
              "    </tr>\n",
              "    <tr>\n",
              "      <th>100</th>\n",
              "      <td>M9R</td>\n",
              "      <td>Kingsview Village, Martin Grove Gardens, Richv...</td>\n",
              "    </tr>\n",
              "    <tr>\n",
              "      <th>101</th>\n",
              "      <td>M9V</td>\n",
              "      <td>Albion Gardens, Beaumond Heights, Humbergate, ...</td>\n",
              "    </tr>\n",
              "    <tr>\n",
              "      <th>102</th>\n",
              "      <td>M9W</td>\n",
              "      <td>Northwest</td>\n",
              "    </tr>\n",
              "  </tbody>\n",
              "</table>\n",
              "<p>103 rows × 2 columns</p>\n",
              "</div>"
            ],
            "text/plain": [
              "    Postcode                                      Neighbourhood\n",
              "0        M1B                                     Rouge, Malvern\n",
              "1        M1C             Highland Creek, Rouge Hill, Port Union\n",
              "2        M1E                  Guildwood, Morningside, West Hill\n",
              "3        M1G                                             Woburn\n",
              "4        M1H                                          Cedarbrae\n",
              "..       ...                                                ...\n",
              "98       M9N                                             Weston\n",
              "99       M9P                                          Westmount\n",
              "100      M9R  Kingsview Village, Martin Grove Gardens, Richv...\n",
              "101      M9V  Albion Gardens, Beaumond Heights, Humbergate, ...\n",
              "102      M9W                                          Northwest\n",
              "\n",
              "[103 rows x 2 columns]"
            ]
          },
          "metadata": {
            "tags": []
          },
          "execution_count": 209
        }
      ]
    },
    {
      "cell_type": "markdown",
      "metadata": {
        "id": "rdIhM71YIk-H",
        "colab_type": "text"
      },
      "source": [
        "Add borough column corresponding to postal code"
      ]
    },
    {
      "cell_type": "code",
      "metadata": {
        "id": "SSVQC40OIS_u",
        "colab_type": "code",
        "colab": {
          "base_uri": "https://localhost:8080/",
          "height": 419
        },
        "outputId": "fc459bcc-b82d-40ec-c776-e216a0556009"
      },
      "source": [
        "# Define a data frame with postcode and borough\n",
        "pcode_borough_df = df.drop('Neighbourhood',axis=1)\n",
        "pcode_borough_df"
      ],
      "execution_count": 210,
      "outputs": [
        {
          "output_type": "execute_result",
          "data": {
            "text/html": [
              "<div>\n",
              "<style scoped>\n",
              "    .dataframe tbody tr th:only-of-type {\n",
              "        vertical-align: middle;\n",
              "    }\n",
              "\n",
              "    .dataframe tbody tr th {\n",
              "        vertical-align: top;\n",
              "    }\n",
              "\n",
              "    .dataframe thead th {\n",
              "        text-align: right;\n",
              "    }\n",
              "</style>\n",
              "<table border=\"1\" class=\"dataframe\">\n",
              "  <thead>\n",
              "    <tr style=\"text-align: right;\">\n",
              "      <th></th>\n",
              "      <th>Postcode</th>\n",
              "      <th>Borough</th>\n",
              "    </tr>\n",
              "  </thead>\n",
              "  <tbody>\n",
              "    <tr>\n",
              "      <th>0</th>\n",
              "      <td>M3A</td>\n",
              "      <td>North York</td>\n",
              "    </tr>\n",
              "    <tr>\n",
              "      <th>1</th>\n",
              "      <td>M4A</td>\n",
              "      <td>North York</td>\n",
              "    </tr>\n",
              "    <tr>\n",
              "      <th>2</th>\n",
              "      <td>M5A</td>\n",
              "      <td>Downtown Toronto</td>\n",
              "    </tr>\n",
              "    <tr>\n",
              "      <th>3</th>\n",
              "      <td>M6A</td>\n",
              "      <td>North York</td>\n",
              "    </tr>\n",
              "    <tr>\n",
              "      <th>4</th>\n",
              "      <td>M6A</td>\n",
              "      <td>North York</td>\n",
              "    </tr>\n",
              "    <tr>\n",
              "      <th>...</th>\n",
              "      <td>...</td>\n",
              "      <td>...</td>\n",
              "    </tr>\n",
              "    <tr>\n",
              "      <th>205</th>\n",
              "      <td>M8Z</td>\n",
              "      <td>Etobicoke</td>\n",
              "    </tr>\n",
              "    <tr>\n",
              "      <th>206</th>\n",
              "      <td>M8Z</td>\n",
              "      <td>Etobicoke</td>\n",
              "    </tr>\n",
              "    <tr>\n",
              "      <th>207</th>\n",
              "      <td>M8Z</td>\n",
              "      <td>Etobicoke</td>\n",
              "    </tr>\n",
              "    <tr>\n",
              "      <th>208</th>\n",
              "      <td>M8Z</td>\n",
              "      <td>Etobicoke</td>\n",
              "    </tr>\n",
              "    <tr>\n",
              "      <th>209</th>\n",
              "      <td>M8Z</td>\n",
              "      <td>Etobicoke</td>\n",
              "    </tr>\n",
              "  </tbody>\n",
              "</table>\n",
              "<p>210 rows × 2 columns</p>\n",
              "</div>"
            ],
            "text/plain": [
              "    Postcode           Borough\n",
              "0        M3A        North York\n",
              "1        M4A        North York\n",
              "2        M5A  Downtown Toronto\n",
              "3        M6A        North York\n",
              "4        M6A        North York\n",
              "..       ...               ...\n",
              "205      M8Z         Etobicoke\n",
              "206      M8Z         Etobicoke\n",
              "207      M8Z         Etobicoke\n",
              "208      M8Z         Etobicoke\n",
              "209      M8Z         Etobicoke\n",
              "\n",
              "[210 rows x 2 columns]"
            ]
          },
          "metadata": {
            "tags": []
          },
          "execution_count": 210
        }
      ]
    },
    {
      "cell_type": "code",
      "metadata": {
        "id": "W7-kxQVuJtnX",
        "colab_type": "code",
        "colab": {
          "base_uri": "https://localhost:8080/",
          "height": 419
        },
        "outputId": "3ad13cb0-f1ae-43c2-d9d2-3e283c16f63b"
      },
      "source": [
        "# Merge 2 data frames\n",
        "merged_df = pd.merge(pcode_borough_df, grouped_df, on='Postcode', how='left')\n",
        "merged_df"
      ],
      "execution_count": 211,
      "outputs": [
        {
          "output_type": "execute_result",
          "data": {
            "text/html": [
              "<div>\n",
              "<style scoped>\n",
              "    .dataframe tbody tr th:only-of-type {\n",
              "        vertical-align: middle;\n",
              "    }\n",
              "\n",
              "    .dataframe tbody tr th {\n",
              "        vertical-align: top;\n",
              "    }\n",
              "\n",
              "    .dataframe thead th {\n",
              "        text-align: right;\n",
              "    }\n",
              "</style>\n",
              "<table border=\"1\" class=\"dataframe\">\n",
              "  <thead>\n",
              "    <tr style=\"text-align: right;\">\n",
              "      <th></th>\n",
              "      <th>Postcode</th>\n",
              "      <th>Borough</th>\n",
              "      <th>Neighbourhood</th>\n",
              "    </tr>\n",
              "  </thead>\n",
              "  <tbody>\n",
              "    <tr>\n",
              "      <th>0</th>\n",
              "      <td>M3A</td>\n",
              "      <td>North York</td>\n",
              "      <td>Parkwoods</td>\n",
              "    </tr>\n",
              "    <tr>\n",
              "      <th>1</th>\n",
              "      <td>M4A</td>\n",
              "      <td>North York</td>\n",
              "      <td>Victoria Village</td>\n",
              "    </tr>\n",
              "    <tr>\n",
              "      <th>2</th>\n",
              "      <td>M5A</td>\n",
              "      <td>Downtown Toronto</td>\n",
              "      <td>Harbourfront</td>\n",
              "    </tr>\n",
              "    <tr>\n",
              "      <th>3</th>\n",
              "      <td>M6A</td>\n",
              "      <td>North York</td>\n",
              "      <td>Lawrence Heights, Lawrence Manor</td>\n",
              "    </tr>\n",
              "    <tr>\n",
              "      <th>4</th>\n",
              "      <td>M6A</td>\n",
              "      <td>North York</td>\n",
              "      <td>Lawrence Heights, Lawrence Manor</td>\n",
              "    </tr>\n",
              "    <tr>\n",
              "      <th>...</th>\n",
              "      <td>...</td>\n",
              "      <td>...</td>\n",
              "      <td>...</td>\n",
              "    </tr>\n",
              "    <tr>\n",
              "      <th>205</th>\n",
              "      <td>M8Z</td>\n",
              "      <td>Etobicoke</td>\n",
              "      <td>Kingsway Park South West, Mimico NW, The Queen...</td>\n",
              "    </tr>\n",
              "    <tr>\n",
              "      <th>206</th>\n",
              "      <td>M8Z</td>\n",
              "      <td>Etobicoke</td>\n",
              "      <td>Kingsway Park South West, Mimico NW, The Queen...</td>\n",
              "    </tr>\n",
              "    <tr>\n",
              "      <th>207</th>\n",
              "      <td>M8Z</td>\n",
              "      <td>Etobicoke</td>\n",
              "      <td>Kingsway Park South West, Mimico NW, The Queen...</td>\n",
              "    </tr>\n",
              "    <tr>\n",
              "      <th>208</th>\n",
              "      <td>M8Z</td>\n",
              "      <td>Etobicoke</td>\n",
              "      <td>Kingsway Park South West, Mimico NW, The Queen...</td>\n",
              "    </tr>\n",
              "    <tr>\n",
              "      <th>209</th>\n",
              "      <td>M8Z</td>\n",
              "      <td>Etobicoke</td>\n",
              "      <td>Kingsway Park South West, Mimico NW, The Queen...</td>\n",
              "    </tr>\n",
              "  </tbody>\n",
              "</table>\n",
              "<p>210 rows × 3 columns</p>\n",
              "</div>"
            ],
            "text/plain": [
              "    Postcode  ...                                      Neighbourhood\n",
              "0        M3A  ...                                          Parkwoods\n",
              "1        M4A  ...                                   Victoria Village\n",
              "2        M5A  ...                                       Harbourfront\n",
              "3        M6A  ...                   Lawrence Heights, Lawrence Manor\n",
              "4        M6A  ...                   Lawrence Heights, Lawrence Manor\n",
              "..       ...  ...                                                ...\n",
              "205      M8Z  ...  Kingsway Park South West, Mimico NW, The Queen...\n",
              "206      M8Z  ...  Kingsway Park South West, Mimico NW, The Queen...\n",
              "207      M8Z  ...  Kingsway Park South West, Mimico NW, The Queen...\n",
              "208      M8Z  ...  Kingsway Park South West, Mimico NW, The Queen...\n",
              "209      M8Z  ...  Kingsway Park South West, Mimico NW, The Queen...\n",
              "\n",
              "[210 rows x 3 columns]"
            ]
          },
          "metadata": {
            "tags": []
          },
          "execution_count": 211
        }
      ]
    },
    {
      "cell_type": "code",
      "metadata": {
        "id": "FZWy13eEKD97",
        "colab_type": "code",
        "colab": {
          "base_uri": "https://localhost:8080/",
          "height": 419
        },
        "outputId": "ea0b0199-627e-47f9-a584-a0b8923c789a"
      },
      "source": [
        "# Remove duplicates\n",
        "clean_df = merged_df.drop_duplicates()\n",
        "clean_df"
      ],
      "execution_count": 212,
      "outputs": [
        {
          "output_type": "execute_result",
          "data": {
            "text/html": [
              "<div>\n",
              "<style scoped>\n",
              "    .dataframe tbody tr th:only-of-type {\n",
              "        vertical-align: middle;\n",
              "    }\n",
              "\n",
              "    .dataframe tbody tr th {\n",
              "        vertical-align: top;\n",
              "    }\n",
              "\n",
              "    .dataframe thead th {\n",
              "        text-align: right;\n",
              "    }\n",
              "</style>\n",
              "<table border=\"1\" class=\"dataframe\">\n",
              "  <thead>\n",
              "    <tr style=\"text-align: right;\">\n",
              "      <th></th>\n",
              "      <th>Postcode</th>\n",
              "      <th>Borough</th>\n",
              "      <th>Neighbourhood</th>\n",
              "    </tr>\n",
              "  </thead>\n",
              "  <tbody>\n",
              "    <tr>\n",
              "      <th>0</th>\n",
              "      <td>M3A</td>\n",
              "      <td>North York</td>\n",
              "      <td>Parkwoods</td>\n",
              "    </tr>\n",
              "    <tr>\n",
              "      <th>1</th>\n",
              "      <td>M4A</td>\n",
              "      <td>North York</td>\n",
              "      <td>Victoria Village</td>\n",
              "    </tr>\n",
              "    <tr>\n",
              "      <th>2</th>\n",
              "      <td>M5A</td>\n",
              "      <td>Downtown Toronto</td>\n",
              "      <td>Harbourfront</td>\n",
              "    </tr>\n",
              "    <tr>\n",
              "      <th>3</th>\n",
              "      <td>M6A</td>\n",
              "      <td>North York</td>\n",
              "      <td>Lawrence Heights, Lawrence Manor</td>\n",
              "    </tr>\n",
              "    <tr>\n",
              "      <th>5</th>\n",
              "      <td>M7A</td>\n",
              "      <td>Downtown Toronto</td>\n",
              "      <td>Queen's Park</td>\n",
              "    </tr>\n",
              "    <tr>\n",
              "      <th>...</th>\n",
              "      <td>...</td>\n",
              "      <td>...</td>\n",
              "      <td>...</td>\n",
              "    </tr>\n",
              "    <tr>\n",
              "      <th>192</th>\n",
              "      <td>M8X</td>\n",
              "      <td>Etobicoke</td>\n",
              "      <td>The Kingsway, Montgomery Road, Old Mill North</td>\n",
              "    </tr>\n",
              "    <tr>\n",
              "      <th>195</th>\n",
              "      <td>M4Y</td>\n",
              "      <td>Downtown Toronto</td>\n",
              "      <td>Church and Wellesley</td>\n",
              "    </tr>\n",
              "    <tr>\n",
              "      <th>196</th>\n",
              "      <td>M7Y</td>\n",
              "      <td>East Toronto</td>\n",
              "      <td>Business Reply Mail Processing Centre 969 Eastern</td>\n",
              "    </tr>\n",
              "    <tr>\n",
              "      <th>197</th>\n",
              "      <td>M8Y</td>\n",
              "      <td>Etobicoke</td>\n",
              "      <td>Humber Bay, King's Mill Park, Kingsway Park So...</td>\n",
              "    </tr>\n",
              "    <tr>\n",
              "      <th>205</th>\n",
              "      <td>M8Z</td>\n",
              "      <td>Etobicoke</td>\n",
              "      <td>Kingsway Park South West, Mimico NW, The Queen...</td>\n",
              "    </tr>\n",
              "  </tbody>\n",
              "</table>\n",
              "<p>103 rows × 3 columns</p>\n",
              "</div>"
            ],
            "text/plain": [
              "    Postcode  ...                                      Neighbourhood\n",
              "0        M3A  ...                                          Parkwoods\n",
              "1        M4A  ...                                   Victoria Village\n",
              "2        M5A  ...                                       Harbourfront\n",
              "3        M6A  ...                   Lawrence Heights, Lawrence Manor\n",
              "5        M7A  ...                                       Queen's Park\n",
              "..       ...  ...                                                ...\n",
              "192      M8X  ...      The Kingsway, Montgomery Road, Old Mill North\n",
              "195      M4Y  ...                               Church and Wellesley\n",
              "196      M7Y  ...  Business Reply Mail Processing Centre 969 Eastern\n",
              "197      M8Y  ...  Humber Bay, King's Mill Park, Kingsway Park So...\n",
              "205      M8Z  ...  Kingsway Park South West, Mimico NW, The Queen...\n",
              "\n",
              "[103 rows x 3 columns]"
            ]
          },
          "metadata": {
            "tags": []
          },
          "execution_count": 212
        }
      ]
    },
    {
      "cell_type": "code",
      "metadata": {
        "id": "10R0mipIKLuo",
        "colab_type": "code",
        "colab": {}
      },
      "source": [
        "# Save the clean data frame to csv file\n",
        "clean_df.to_csv(\"toronto_data_1.csv\", index=False)"
      ],
      "execution_count": 0,
      "outputs": []
    },
    {
      "cell_type": "code",
      "metadata": {
        "id": "RQeXttIrDwc8",
        "colab_type": "code",
        "outputId": "33a1ee54-fbd8-4631-fef3-375c9e5d7e63",
        "colab": {
          "base_uri": "https://localhost:8080/",
          "height": 34
        }
      },
      "source": [
        "# Print shape of the clean data frame\n",
        "clean_df.shape"
      ],
      "execution_count": 214,
      "outputs": [
        {
          "output_type": "execute_result",
          "data": {
            "text/plain": [
              "(103, 3)"
            ]
          },
          "metadata": {
            "tags": []
          },
          "execution_count": 214
        }
      ]
    }
  ]
}